{
  "nbformat": 4,
  "nbformat_minor": 0,
  "metadata": {
    "colab": {
      "provenance": []
    },
    "kernelspec": {
      "name": "python3",
      "display_name": "Python 3"
    },
    "language_info": {
      "name": "python"
    }
  },
  "cells": [
    {
      "cell_type": "markdown",
      "source": [
        "## Task 1: Find the Largest Element\n",
        "\n",
        "\n",
        "\n",
        "1.   Finds the largest element in an array.\n",
        "2.   List itemTest this function with a simple input.\n",
        "\n",
        "\n"
      ],
      "metadata": {
        "id": "Mu_hIC56pkiY"
      }
    },
    {
      "cell_type": "code",
      "execution_count": 1,
      "metadata": {
        "id": "77d5N1m7ovCc"
      },
      "outputs": [],
      "source": [
        "def largest_element(arr):\n",
        "  max_element = arr[0]\n",
        "  for element in arr:\n",
        "    if element > max_element:\n",
        "      max_element = element\n",
        "  return max_element\n",
        "\n"
      ]
    },
    {
      "cell_type": "code",
      "source": [
        "# test the function\n",
        "largest_element([1,2,3,4,5])\n"
      ],
      "metadata": {
        "colab": {
          "base_uri": "https://localhost:8080/"
        },
        "id": "bXHnL2zQqal-",
        "outputId": "c581a82b-f013-4ff8-ef4b-beeede057cfd"
      },
      "execution_count": 5,
      "outputs": [
        {
          "output_type": "execute_result",
          "data": {
            "text/plain": [
              "5"
            ]
          },
          "metadata": {},
          "execution_count": 5
        }
      ]
    },
    {
      "cell_type": "code",
      "source": [
        "def kth_largest_element(arr, k):\n",
        "  i = 0\n",
        "  while i < k:\n",
        "    max_element = largest_element(arr)\n",
        "    arr.remove(max_element)\n",
        "    i += 1\n",
        "  return max_element"
      ],
      "metadata": {
        "id": "uJ7v5uhSqBh4"
      },
      "execution_count": 7,
      "outputs": []
    },
    {
      "cell_type": "code",
      "source": [
        "# test the function :\n",
        "kth_largest_element([1,2,3,4,5], 2)"
      ],
      "metadata": {
        "colab": {
          "base_uri": "https://localhost:8080/"
        },
        "id": "l36i3-jYqGEu",
        "outputId": "b2b41d45-5c6b-4611-c380-72923a0ffda7"
      },
      "execution_count": 8,
      "outputs": [
        {
          "output_type": "execute_result",
          "data": {
            "text/plain": [
              "4"
            ]
          },
          "metadata": {},
          "execution_count": 8
        }
      ]
    },
    {
      "cell_type": "markdown",
      "source": [
        "## The final solution :"
      ],
      "metadata": {
        "id": "IoIgp7QnveMG"
      }
    },
    {
      "cell_type": "code",
      "source": [
        "class Solution(object):\n",
        "    def findKthLargest(self, nums, k):\n",
        "        \"\"\"\n",
        "        :type nums: List[int]\n",
        "        :type k: int\n",
        "        :rtype: int\n",
        "        \"\"\"\n",
        "        import heapq\n",
        "        heap = [] # creates an empty heap\n",
        "        for num in nums:\n",
        "            heapq.heappush(heap, num) # pushes a new item on the heap\n",
        "            print(f\"on a ajouter le nombre {num} le heap : {heap}\")\n",
        "            if len(heap) > k:\n",
        "                heapq.heappop(heap) # pops the smallest item from the heap\n",
        "        return heap\n"
      ],
      "metadata": {
        "id": "NVCgdcc7qhjZ"
      },
      "execution_count": 5,
      "outputs": []
    },
    {
      "cell_type": "code",
      "source": [
        "# test the function\n",
        "%%time\n",
        "nums = [3,2,1,5,6,4]\n",
        "k = 2\n",
        "Solution().findKthLargest(nums, k)"
      ],
      "metadata": {
        "colab": {
          "base_uri": "https://localhost:8080/"
        },
        "id": "j1BXWcKbtB2W",
        "outputId": "059a5569-eb1c-4a14-c2f4-5d35c7040c96"
      },
      "execution_count": 7,
      "outputs": [
        {
          "output_type": "stream",
          "name": "stdout",
          "text": [
            "on a ajouter le nombre 3 le heap : [3]\n",
            "on a ajouter le nombre 2 le heap : [2, 3]\n",
            "on a ajouter le nombre 1 le heap : [1, 3, 2]\n",
            "on a ajouter le nombre 5 le heap : [2, 3, 5]\n",
            "on a ajouter le nombre 6 le heap : [3, 5, 6]\n",
            "on a ajouter le nombre 4 le heap : [4, 6, 5]\n",
            "CPU times: user 3.34 ms, sys: 0 ns, total: 3.34 ms\n",
            "Wall time: 3.71 ms\n"
          ]
        },
        {
          "output_type": "execute_result",
          "data": {
            "text/plain": [
              "[5, 6]"
            ]
          },
          "metadata": {},
          "execution_count": 7
        }
      ]
    },
    {
      "cell_type": "code",
      "source": [
        "[1, 3, 2, 6, 7] => [1, 2, 3, 6, 7] suppose k = 2 results: 6\n"
      ],
      "metadata": {
        "id": "0sJ3yy1Vtshu"
      },
      "execution_count": null,
      "outputs": []
    }
  ]
}