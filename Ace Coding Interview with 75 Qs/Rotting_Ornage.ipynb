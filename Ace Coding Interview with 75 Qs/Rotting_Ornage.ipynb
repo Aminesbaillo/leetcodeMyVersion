{
  "nbformat": 4,
  "nbformat_minor": 0,
  "metadata": {
    "colab": {
      "provenance": []
    },
    "kernelspec": {
      "name": "python3",
      "display_name": "Python 3"
    },
    "language_info": {
      "name": "python"
    }
  },
  "cells": [
    {
      "cell_type": "markdown",
      "source": [
        "## Task 1 explore the grid\n"
      ],
      "metadata": {
        "id": "-NrPZEAtIKop"
      }
    },
    {
      "cell_type": "code",
      "execution_count": null,
      "metadata": {
        "id": "b935jdjMH_x0"
      },
      "outputs": [],
      "source": [
        "def explore_grid(grid):\n",
        "  n = len(grid)\n",
        "  m = len(grid[0])\n",
        "  for i in range(n):\n",
        "    for j in range(m):\n",
        "      print(f\"\\nthe value in position{(i, j)} is :{grid[i][j]} \", end=\" \")\n"
      ]
    },
    {
      "cell_type": "code",
      "source": [
        "grid = [[2,1,1],[1,1,0],[0,1,1]]\n",
        "explore_grid(grid)"
      ],
      "metadata": {
        "colab": {
          "base_uri": "https://localhost:8080/"
        },
        "id": "q8fmmO9_IuU1",
        "outputId": "8165540a-6751-4393-d026-66798b07bbf9"
      },
      "execution_count": null,
      "outputs": [
        {
          "output_type": "stream",
          "name": "stdout",
          "text": [
            "\n",
            "the value in position(0, 0) is :2  \n",
            "the value in position(0, 1) is :1  \n",
            "the value in position(0, 2) is :1  \n",
            "the value in position(1, 0) is :1  \n",
            "the value in position(1, 1) is :1  \n",
            "the value in position(1, 2) is :0  \n",
            "the value in position(2, 0) is :0  \n",
            "the value in position(2, 1) is :1  \n",
            "the value in position(2, 2) is :1  "
          ]
        }
      ]
    },
    {
      "cell_type": "markdown",
      "source": [
        "## Task 2: Write a Function to Extract Rotten and Fresh Orange Data\n",
        "\n",
        "\n",
        "* Collects all the `positions` of rotten oranges (2) into a list.\n",
        "* Counts the `total number` of fresh oranges (1)."
      ],
      "metadata": {
        "id": "YSPy_gCdJXDh"
      }
    },
    {
      "cell_type": "code",
      "source": [
        "def rotten_fresh_positions_numbers(grid):\n",
        "  n = len(grid)\n",
        "  m = len(grid[0])\n",
        "  position_rotten = []\n",
        "  count = 0\n",
        "  for i in range(n):\n",
        "    for j in range(m):\n",
        "      if grid[i][j] == 2 :\n",
        "        position_rotten.append((i, j))\n",
        "      elif grid[i][j] == 1:\n",
        "        count += 1\n",
        "  # print(f\"list of rotten positions: {position_rotten}\")\n",
        "  # print(f\"total number of fresh oranges: {count}\")\n",
        "  return position_rotten\n",
        "\n",
        "grid = [[2,1,1],[1,1,0],[0,1,1]]\n",
        "print(rotten_fresh_positions_numbers(grid))"
      ],
      "metadata": {
        "colab": {
          "base_uri": "https://localhost:8080/"
        },
        "id": "Ps0-QxbMI6Hm",
        "outputId": "56d9ed61-4758-4b9e-9577-908ad6f3097d"
      },
      "execution_count": null,
      "outputs": [
        {
          "output_type": "stream",
          "name": "stdout",
          "text": [
            "[(0, 0)]\n"
          ]
        }
      ]
    },
    {
      "cell_type": "markdown",
      "source": [
        "## Task 3: Spread Rot Using BFS\n",
        "\n",
        "\n",
        "* Start from all rotten oranges simultaneously (use the position_rotten list as the initial queue).\n",
        "* Explore their neighbors (up, down, left, right) to rot adjacent fresh oranges.\n",
        "* Count the number of steps (minutes) taken."
      ],
      "metadata": {
        "id": "q1h5pKpJQ1ON"
      }
    },
    {
      "cell_type": "code",
      "source": [
        "from collections import deque\n",
        "def bfs(grid, position_rotten):\n",
        "    directions = [(0, 1), (0, -1), (1, 0), (-1, 0)]\n",
        "    queue = deque(position_rotten)\n",
        "    count = 0\n",
        "    while queue:\n",
        "        modify = False\n",
        "    # print(queue)\n",
        "        for _ in range(len(queue)):\n",
        "            i, j = queue.popleft()\n",
        "            for dir in directions:\n",
        "                x, y = i + dir[0], j + dir[1]\n",
        "                if 0 <= x < len(grid) and 0 <= y < len(grid[0]) and y >= 0 :\n",
        "                    if grid[x][y] == 1 :\n",
        "                        grid[x][y] = 2\n",
        "                        queue.append((x, y))\n",
        "                        modify = True\n",
        "        if modify :\n",
        "            count += 1\n",
        "    return count"
      ],
      "metadata": {
        "id": "prsFm-_YKdDm"
      },
      "execution_count": null,
      "outputs": []
    },
    {
      "cell_type": "code",
      "source": [
        "grid = [[2,1,1],[1,1,0],[0,1,1]]\n",
        "position_rotten = rotten_fresh_positions_numbers(grid)\n",
        "bfs(grid, position_rotten=position_rotten)"
      ],
      "metadata": {
        "colab": {
          "base_uri": "https://localhost:8080/"
        },
        "id": "mSOXqwEJSEVd",
        "outputId": "b0891c04-d87b-4c24-ed2b-20606ccca997"
      },
      "execution_count": null,
      "outputs": [
        {
          "output_type": "execute_result",
          "data": {
            "text/plain": [
              "4"
            ]
          },
          "metadata": {},
          "execution_count": 20
        }
      ]
    },
    {
      "cell_type": "markdown",
      "source": [
        "## Finale version"
      ],
      "metadata": {
        "id": "bQxAn76faz0Q"
      }
    },
    {
      "cell_type": "code",
      "source": [
        "class Solution(object):\n",
        "    def orangesRotting(self, grid):\n",
        "        \"\"\"\n",
        "        :type grid: List[List[int]]\n",
        "        :rtype: int\n",
        "        \"\"\"\n",
        "        def position_rotten(grid):\n",
        "          n = len(grid)\n",
        "          m = len(grid[0])\n",
        "          rotten_position = []\n",
        "          for i in range(n):\n",
        "            for j in range(m):\n",
        "              if grid[i][j] == 2 :\n",
        "                rotten_position.append((i, j))\n",
        "          return rotten_position\n",
        "\n",
        "        from collections import deque\n",
        "        def bfs(grid, rotten_position):\n",
        "            directions = [(0, 1), (0, -1), (1, 0), (-1, 0)]\n",
        "            queue = deque(rotten_position)\n",
        "            count = 0\n",
        "            while queue:\n",
        "              modify = False\n",
        "              for _ in range(len(queue)):\n",
        "                i, j = queue.popleft()\n",
        "                for dr, dc in directions:\n",
        "                  x, y = i + dr, j + dc\n",
        "                  if 0<= x < len(grid) and 0 <= y < len(grid[0]) and y >= 0 :\n",
        "                    if grid[x][y] == 1 :\n",
        "                      grid[x][y] = 2\n",
        "                      queue.append((x, y))\n",
        "                      modify = True\n",
        "              if modify :\n",
        "                count += 1\n",
        "\n",
        "            if any(1 in row for row in grid):\n",
        "              return -1\n",
        "            else:\n",
        "              return count\n",
        "\n",
        "        return bfs(grid, position_rotten(grid))\n",
        "\n"
      ],
      "metadata": {
        "id": "sq4w5uEHa2D1"
      },
      "execution_count": null,
      "outputs": []
    },
    {
      "cell_type": "code",
      "source": [
        "sol = Solution()\n",
        "grid = [[2,1,1],[1,1,0],[0,1,1]]\n",
        "sol.orangesRotting(grid)"
      ],
      "metadata": {
        "colab": {
          "base_uri": "https://localhost:8080/"
        },
        "id": "VttFf7b1cCeS",
        "outputId": "c425580c-b276-4be6-e58c-4e08a6233b9c"
      },
      "execution_count": null,
      "outputs": [
        {
          "output_type": "execute_result",
          "data": {
            "text/plain": [
              "4"
            ]
          },
          "metadata": {},
          "execution_count": 24
        }
      ]
    },
    {
      "cell_type": "code",
      "source": [],
      "metadata": {
        "id": "9AaUA8_FcGPM"
      },
      "execution_count": null,
      "outputs": []
    }
  ]
}