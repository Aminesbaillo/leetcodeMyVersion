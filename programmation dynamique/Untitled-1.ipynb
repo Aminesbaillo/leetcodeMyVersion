{
 "cells": [
  {
   "cell_type": "code",
   "execution_count": 22,
   "metadata": {},
   "outputs": [],
   "source": [
    "class Solution(object):\n",
    "    def removeElement(self, nums, val):\n",
    "        \"\"\"\n",
    "        :type nums: List[int]\n",
    "        :type val: int\n",
    "        :rtype: int\n",
    "        \"\"\"\n",
    "        n = len(nums)\n",
    "        count = 0 \n",
    "        i= 0 \n",
    "        while i < n:\n",
    "            if nums[i] == val:\n",
    "                nums.pop(i)\n",
    "                nums.append(val)\n",
    "                count += 1\n",
    "            else: \n",
    "                i += 1\n",
    "        \n",
    "        return (n - count),nums"
   ]
  },
  {
   "cell_type": "code",
   "execution_count": null,
   "metadata": {},
   "outputs": [],
   "source": [
    "solution = Solution()\n",
    "print(solution.removeElement([0,1,2,2,3,0,4,2],2))"
   ]
  }
 ],
 "metadata": {
  "kernelspec": {
   "display_name": "Python 3",
   "language": "python",
   "name": "python3"
  },
  "language_info": {
   "codemirror_mode": {
    "name": "ipython",
    "version": 3
   },
   "file_extension": ".py",
   "mimetype": "text/x-python",
   "name": "python",
   "nbconvert_exporter": "python",
   "pygments_lexer": "ipython3",
   "version": "3.12.0"
  }
 },
 "nbformat": 4,
 "nbformat_minor": 2
}
